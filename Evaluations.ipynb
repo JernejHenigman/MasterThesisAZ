{
 "cells": [
  {
   "cell_type": "code",
   "execution_count": 2,
   "id": "d8bda380",
   "metadata": {
    "scrolled": true
   },
   "outputs": [
    {
     "ename": "TypeError",
     "evalue": "exceptions must derive from BaseException",
     "output_type": "error",
     "traceback": [
      "\u001b[1;31m---------------------------------------------------------------------------\u001b[0m",
      "\u001b[1;31mTypeError\u001b[0m                                 Traceback (most recent call last)",
      "\u001b[1;32m~\\AppData\\Local\\Temp/ipykernel_1848/2756693560.py\u001b[0m in \u001b[0;36m<module>\u001b[1;34m\u001b[0m\n\u001b[0;32m     36\u001b[0m \u001b[1;31m# nnet players\u001b[0m\u001b[1;33m\u001b[0m\u001b[1;33m\u001b[0m\u001b[1;33m\u001b[0m\u001b[0m\n\u001b[0;32m     37\u001b[0m \u001b[0mn1\u001b[0m \u001b[1;33m=\u001b[0m \u001b[0mNNet\u001b[0m\u001b[1;33m(\u001b[0m\u001b[0mg\u001b[0m\u001b[1;33m)\u001b[0m\u001b[1;33m\u001b[0m\u001b[1;33m\u001b[0m\u001b[0m\n\u001b[1;32m---> 38\u001b[1;33m \u001b[0mn1\u001b[0m\u001b[1;33m.\u001b[0m\u001b[0mload_checkpoint\u001b[0m\u001b[1;33m(\u001b[0m\u001b[1;34m'./temp/antichess/final/torch/200x100x35x0.6x200000x0.1x150x1.25/'\u001b[0m\u001b[1;33m,\u001b[0m\u001b[1;34m'best.pth.tar'\u001b[0m\u001b[1;33m)\u001b[0m\u001b[1;33m\u001b[0m\u001b[1;33m\u001b[0m\u001b[0m\n\u001b[0m\u001b[0;32m     39\u001b[0m \u001b[1;33m\u001b[0m\u001b[0m\n\u001b[0;32m     40\u001b[0m \u001b[0margs1\u001b[0m \u001b[1;33m=\u001b[0m \u001b[0mdotdict\u001b[0m\u001b[1;33m(\u001b[0m\u001b[1;33m{\u001b[0m\u001b[1;34m'numMCTSSims'\u001b[0m\u001b[1;33m:\u001b[0m \u001b[1;36m150\u001b[0m\u001b[1;33m,\u001b[0m \u001b[1;34m'cpuct'\u001b[0m\u001b[1;33m:\u001b[0m\u001b[1;36m1.25\u001b[0m\u001b[1;33m,\u001b[0m \u001b[1;34m'dirichletAlpha'\u001b[0m \u001b[1;33m:\u001b[0m \u001b[1;36m0.1\u001b[0m\u001b[1;33m}\u001b[0m\u001b[1;33m)\u001b[0m\u001b[1;33m\u001b[0m\u001b[1;33m\u001b[0m\u001b[0m\n",
      "\u001b[1;32m~\\Documents\\MasterThesis\\antichess3\\pytorch\\NNet.py\u001b[0m in \u001b[0;36mload_checkpoint\u001b[1;34m(self, folder, filename)\u001b[0m\n\u001b[0;32m    115\u001b[0m         \u001b[0mfilepath\u001b[0m \u001b[1;33m=\u001b[0m \u001b[0mos\u001b[0m\u001b[1;33m.\u001b[0m\u001b[0mpath\u001b[0m\u001b[1;33m.\u001b[0m\u001b[0mjoin\u001b[0m\u001b[1;33m(\u001b[0m\u001b[0mfolder\u001b[0m\u001b[1;33m,\u001b[0m \u001b[0mfilename\u001b[0m\u001b[1;33m)\u001b[0m\u001b[1;33m\u001b[0m\u001b[1;33m\u001b[0m\u001b[0m\n\u001b[0;32m    116\u001b[0m         \u001b[1;32mif\u001b[0m \u001b[1;32mnot\u001b[0m \u001b[0mos\u001b[0m\u001b[1;33m.\u001b[0m\u001b[0mpath\u001b[0m\u001b[1;33m.\u001b[0m\u001b[0mexists\u001b[0m\u001b[1;33m(\u001b[0m\u001b[0mfilepath\u001b[0m\u001b[1;33m)\u001b[0m\u001b[1;33m:\u001b[0m\u001b[1;33m\u001b[0m\u001b[1;33m\u001b[0m\u001b[0m\n\u001b[1;32m--> 117\u001b[1;33m             \u001b[1;32mraise\u001b[0m \u001b[1;33m(\u001b[0m\u001b[1;34m\"No model in path {}\"\u001b[0m\u001b[1;33m.\u001b[0m\u001b[0mformat\u001b[0m\u001b[1;33m(\u001b[0m\u001b[0mfilepath\u001b[0m\u001b[1;33m)\u001b[0m\u001b[1;33m)\u001b[0m\u001b[1;33m\u001b[0m\u001b[1;33m\u001b[0m\u001b[0m\n\u001b[0m\u001b[0;32m    118\u001b[0m         \u001b[0mmap_location\u001b[0m \u001b[1;33m=\u001b[0m \u001b[1;32mNone\u001b[0m \u001b[1;32mif\u001b[0m \u001b[0margs\u001b[0m\u001b[1;33m.\u001b[0m\u001b[0mcuda\u001b[0m \u001b[1;32melse\u001b[0m \u001b[1;34m'cpu'\u001b[0m\u001b[1;33m\u001b[0m\u001b[1;33m\u001b[0m\u001b[0m\n\u001b[0;32m    119\u001b[0m         \u001b[0mcheckpoint\u001b[0m \u001b[1;33m=\u001b[0m \u001b[0mtorch\u001b[0m\u001b[1;33m.\u001b[0m\u001b[0mload\u001b[0m\u001b[1;33m(\u001b[0m\u001b[0mfilepath\u001b[0m\u001b[1;33m,\u001b[0m \u001b[0mmap_location\u001b[0m\u001b[1;33m=\u001b[0m\u001b[0mmap_location\u001b[0m\u001b[1;33m)\u001b[0m\u001b[1;33m\u001b[0m\u001b[1;33m\u001b[0m\u001b[0m\n",
      "\u001b[1;31mTypeError\u001b[0m: exceptions must derive from BaseException"
     ]
    }
   ],
   "source": [
    "import Arena\n",
    "from MCTS import MCTS\n",
    "\n",
    "from antichess3.AntiChessGame import  AntiChessGame\n",
    "from antichess3.AntiChessPlayers import *\n",
    "\n",
    "\n",
    "from antichess3.pytorch.NNet import NNetWrapper as NNet\n",
    "import os\n",
    "\n",
    "\n",
    "import numpy as np\n",
    "from utils import *\n",
    "\n",
    "import time\n",
    "\n",
    "\"\"\"\n",
    "use this script to play any two agents against each other, or play manually with\n",
    "any agent.\n",
    "\"\"\"\n",
    "\n",
    "g = AntiChessGame(8)\n",
    "#g = TicTacToeGame()\n",
    "#g = ChessGame()\n",
    "\n",
    "# all players\n",
    "rp1 = RandomPlayer(g).play\n",
    "rp2 = RandomPlayer(g).play\n",
    "\n",
    "stockfish1 = StockFishPlayer(g,3000).play\n",
    "stockfish2 = StockFishPlayer(g,500).play\n",
    "\n",
    "\n",
    "#hp = HumanPawnsPlayer(g).play\n",
    "\n",
    "# nnet players\n",
    "n1 = NNet(g)\n",
    "n1.load_checkpoint('./temp/antichess/final/torch/200x100x35x0.6x200000x0.1x150x1.25/','best.pth.tar')\n",
    "\n",
    "args1 = dotdict({'numMCTSSims': 150, 'cpuct':1.25, 'dirichletAlpha' : 0.1})\n",
    "mcts1 = MCTS(g, n1, args1, dirichlet_noise=True)\n",
    "n1p = lambda x: np.argmax(mcts1.getActionProb(x, temp=0))\n",
    "\n",
    "n2 = NNet(g)\n",
    "n2.load_checkpoint('./temp/antichess/final/torch/200x100x35x0.6x200000x0.1x150x1.25/','checkpoint_1.pth.tar')\n",
    "\n",
    "args2 = dotdict({'numMCTSSims': 150, 'cpuct':1.25, 'dirichletAlpha' : 0.1})\n",
    "mcts2 = MCTS(g, n2, args2, dirichlet_noise=True)\n",
    "n2p = lambda x: np.argmax(mcts2.getActionProb(x, temp=0))\n",
    "\n",
    "arena = Arena.Arena(n1p,n2p,g)\n",
    "\n",
    "\n",
    "start = time.time()\n",
    "print(arena.playGames(40,verbose=False))\n",
    "end = time.time()\n",
    "print(end-start)\n",
    "\n"
   ]
  },
  {
   "cell_type": "code",
   "execution_count": 3,
   "id": "99e564ba",
   "metadata": {},
   "outputs": [
    {
     "name": "stdout",
     "output_type": "stream",
     "text": [
      "True\n",
      "11.1\n",
      "True\n",
      "\n"
     ]
    },
    {
     "data": {
      "text/plain": [
       "tensor([0., 0., 0., 0., 0.], device='cuda:0')"
      ]
     },
     "execution_count": 3,
     "metadata": {},
     "output_type": "execute_result"
    }
   ],
   "source": [
    "import torch\n",
    "print(torch.cuda.is_available())\n",
    "print(torch.version.cuda)\n",
    "print(torch.backends.cudnn.enabled)\n",
    "print()\n",
    "\n",
    "torch.zeros(5).cuda()"
   ]
  },
  {
   "cell_type": "code",
   "execution_count": 4,
   "id": "5600c5e3",
   "metadata": {},
   "outputs": [
    {
     "data": {
      "text/plain": [
       "'NVIDIA GeForce RTX 3070 Ti'"
      ]
     },
     "execution_count": 4,
     "metadata": {},
     "output_type": "execute_result"
    }
   ],
   "source": [
    "torch.cuda.get_device_name(0)"
   ]
  },
  {
   "cell_type": "code",
   "execution_count": 5,
   "id": "cab4dc1c",
   "metadata": {},
   "outputs": [
    {
     "ename": "TypeError",
     "evalue": "exceptions must derive from BaseException",
     "output_type": "error",
     "traceback": [
      "\u001b[1;31m---------------------------------------------------------------------------\u001b[0m",
      "\u001b[1;31mTypeError\u001b[0m                                 Traceback (most recent call last)",
      "\u001b[1;32m~\\AppData\\Local\\Temp/ipykernel_1848/520172386.py\u001b[0m in \u001b[0;36m<module>\u001b[1;34m\u001b[0m\n\u001b[0;32m      1\u001b[0m \u001b[0mn1\u001b[0m \u001b[1;33m=\u001b[0m \u001b[0mNNet\u001b[0m\u001b[1;33m(\u001b[0m\u001b[0mg\u001b[0m\u001b[1;33m)\u001b[0m\u001b[1;33m\u001b[0m\u001b[1;33m\u001b[0m\u001b[0m\n\u001b[1;32m----> 2\u001b[1;33m \u001b[0mn1\u001b[0m\u001b[1;33m.\u001b[0m\u001b[0mload_checkpoint\u001b[0m\u001b[1;33m(\u001b[0m\u001b[1;34m'./temp/antichess/reduced_moves/torch/200x100x25x25x1/'\u001b[0m\u001b[1;33m,\u001b[0m\u001b[1;34m'checkpoint_24.pth.tar'\u001b[0m\u001b[1;33m)\u001b[0m\u001b[1;33m\u001b[0m\u001b[1;33m\u001b[0m\u001b[0m\n\u001b[0m\u001b[0;32m      3\u001b[0m \u001b[1;33m\u001b[0m\u001b[0m\n\u001b[0;32m      4\u001b[0m \u001b[0margs1\u001b[0m \u001b[1;33m=\u001b[0m \u001b[0mdotdict\u001b[0m\u001b[1;33m(\u001b[0m\u001b[1;33m{\u001b[0m\u001b[1;34m'numMCTSSims'\u001b[0m\u001b[1;33m:\u001b[0m \u001b[1;36m100\u001b[0m\u001b[1;33m,\u001b[0m \u001b[1;34m'cpuct'\u001b[0m\u001b[1;33m:\u001b[0m\u001b[1;36m1.25\u001b[0m\u001b[1;33m,\u001b[0m \u001b[1;34m'dirichletAlpha'\u001b[0m \u001b[1;33m:\u001b[0m \u001b[1;36m0.1\u001b[0m\u001b[1;33m}\u001b[0m\u001b[1;33m)\u001b[0m\u001b[1;33m\u001b[0m\u001b[1;33m\u001b[0m\u001b[0m\n\u001b[0;32m      5\u001b[0m \u001b[0mmcts1\u001b[0m \u001b[1;33m=\u001b[0m \u001b[0mMCTS\u001b[0m\u001b[1;33m(\u001b[0m\u001b[0mg\u001b[0m\u001b[1;33m,\u001b[0m \u001b[0mn1\u001b[0m\u001b[1;33m,\u001b[0m \u001b[0margs1\u001b[0m\u001b[1;33m,\u001b[0m \u001b[0mdirichlet_noise\u001b[0m\u001b[1;33m=\u001b[0m\u001b[1;32mTrue\u001b[0m\u001b[1;33m)\u001b[0m\u001b[1;33m\u001b[0m\u001b[1;33m\u001b[0m\u001b[0m\n",
      "\u001b[1;32m~\\Documents\\MasterThesis\\antichess3\\pytorch\\NNet.py\u001b[0m in \u001b[0;36mload_checkpoint\u001b[1;34m(self, folder, filename)\u001b[0m\n\u001b[0;32m    115\u001b[0m         \u001b[0mfilepath\u001b[0m \u001b[1;33m=\u001b[0m \u001b[0mos\u001b[0m\u001b[1;33m.\u001b[0m\u001b[0mpath\u001b[0m\u001b[1;33m.\u001b[0m\u001b[0mjoin\u001b[0m\u001b[1;33m(\u001b[0m\u001b[0mfolder\u001b[0m\u001b[1;33m,\u001b[0m \u001b[0mfilename\u001b[0m\u001b[1;33m)\u001b[0m\u001b[1;33m\u001b[0m\u001b[1;33m\u001b[0m\u001b[0m\n\u001b[0;32m    116\u001b[0m         \u001b[1;32mif\u001b[0m \u001b[1;32mnot\u001b[0m \u001b[0mos\u001b[0m\u001b[1;33m.\u001b[0m\u001b[0mpath\u001b[0m\u001b[1;33m.\u001b[0m\u001b[0mexists\u001b[0m\u001b[1;33m(\u001b[0m\u001b[0mfilepath\u001b[0m\u001b[1;33m)\u001b[0m\u001b[1;33m:\u001b[0m\u001b[1;33m\u001b[0m\u001b[1;33m\u001b[0m\u001b[0m\n\u001b[1;32m--> 117\u001b[1;33m             \u001b[1;32mraise\u001b[0m \u001b[1;33m(\u001b[0m\u001b[1;34m\"No model in path {}\"\u001b[0m\u001b[1;33m.\u001b[0m\u001b[0mformat\u001b[0m\u001b[1;33m(\u001b[0m\u001b[0mfilepath\u001b[0m\u001b[1;33m)\u001b[0m\u001b[1;33m)\u001b[0m\u001b[1;33m\u001b[0m\u001b[1;33m\u001b[0m\u001b[0m\n\u001b[0m\u001b[0;32m    118\u001b[0m         \u001b[0mmap_location\u001b[0m \u001b[1;33m=\u001b[0m \u001b[1;32mNone\u001b[0m \u001b[1;32mif\u001b[0m \u001b[0margs\u001b[0m\u001b[1;33m.\u001b[0m\u001b[0mcuda\u001b[0m \u001b[1;32melse\u001b[0m \u001b[1;34m'cpu'\u001b[0m\u001b[1;33m\u001b[0m\u001b[1;33m\u001b[0m\u001b[0m\n\u001b[0;32m    119\u001b[0m         \u001b[0mcheckpoint\u001b[0m \u001b[1;33m=\u001b[0m \u001b[0mtorch\u001b[0m\u001b[1;33m.\u001b[0m\u001b[0mload\u001b[0m\u001b[1;33m(\u001b[0m\u001b[0mfilepath\u001b[0m\u001b[1;33m,\u001b[0m \u001b[0mmap_location\u001b[0m\u001b[1;33m=\u001b[0m\u001b[0mmap_location\u001b[0m\u001b[1;33m)\u001b[0m\u001b[1;33m\u001b[0m\u001b[1;33m\u001b[0m\u001b[0m\n",
      "\u001b[1;31mTypeError\u001b[0m: exceptions must derive from BaseException"
     ]
    }
   ],
   "source": [
    "n1 = NNet(g)\n",
    "n1.load_checkpoint('./temp/antichess/reduced_moves/torch/200x100x25x25x1/','checkpoint_24.pth.tar')\n",
    "\n",
    "args1 = dotdict({'numMCTSSims': 100, 'cpuct':1.25, 'dirichletAlpha' : 0.1})\n",
    "mcts1 = MCTS(g, n1, args1, dirichlet_noise=True)\n",
    "n1p = lambda x: np.argmax(mcts1.getActionProb(x, temp=0))"
   ]
  },
  {
   "cell_type": "code",
   "execution_count": 6,
   "id": "41aa4056",
   "metadata": {},
   "outputs": [
    {
     "ename": "NameError",
     "evalue": "name 'n1p' is not defined",
     "output_type": "error",
     "traceback": [
      "\u001b[1;31m---------------------------------------------------------------------------\u001b[0m",
      "\u001b[1;31mNameError\u001b[0m                                 Traceback (most recent call last)",
      "\u001b[1;32m~\\AppData\\Local\\Temp/ipykernel_1848/658505607.py\u001b[0m in \u001b[0;36m<module>\u001b[1;34m\u001b[0m\n\u001b[1;32m----> 1\u001b[1;33m \u001b[0marena\u001b[0m \u001b[1;33m=\u001b[0m \u001b[0mArena\u001b[0m\u001b[1;33m(\u001b[0m\u001b[0mn1p\u001b[0m\u001b[1;33m,\u001b[0m\u001b[0mrp1\u001b[0m\u001b[1;33m,\u001b[0m\u001b[0mg\u001b[0m\u001b[1;33m)\u001b[0m\u001b[1;33m\u001b[0m\u001b[1;33m\u001b[0m\u001b[0m\n\u001b[0m\u001b[0;32m      2\u001b[0m \u001b[1;33m\u001b[0m\u001b[0m\n\u001b[0;32m      3\u001b[0m \u001b[1;33m\u001b[0m\u001b[0m\n\u001b[0;32m      4\u001b[0m \u001b[0mstart\u001b[0m \u001b[1;33m=\u001b[0m \u001b[0mtime\u001b[0m\u001b[1;33m.\u001b[0m\u001b[0mtime\u001b[0m\u001b[1;33m(\u001b[0m\u001b[1;33m)\u001b[0m\u001b[1;33m\u001b[0m\u001b[1;33m\u001b[0m\u001b[0m\n\u001b[0;32m      5\u001b[0m \u001b[0mprint\u001b[0m\u001b[1;33m(\u001b[0m\u001b[0marena\u001b[0m\u001b[1;33m.\u001b[0m\u001b[0mplayGame\u001b[0m\u001b[1;33m(\u001b[0m\u001b[0mverbose\u001b[0m\u001b[1;33m=\u001b[0m\u001b[1;32mFalse\u001b[0m\u001b[1;33m)\u001b[0m\u001b[1;33m)\u001b[0m\u001b[1;33m\u001b[0m\u001b[1;33m\u001b[0m\u001b[0m\n",
      "\u001b[1;31mNameError\u001b[0m: name 'n1p' is not defined"
     ]
    }
   ],
   "source": [
    "arena = Arena(n1p,rp1,g)\n",
    "\n",
    "\n",
    "start = time.time()\n",
    "print(arena.playGame(verbose=False))\n",
    "end = time.time()\n",
    "print(end-start)\n"
   ]
  },
  {
   "cell_type": "code",
   "execution_count": 7,
   "id": "ad42929a",
   "metadata": {},
   "outputs": [],
   "source": [
    "import numpy as np\n",
    "#from pytorch_classification.utils import Bar, AverageMeter\n",
    "from utils import *\n",
    "from antichess3.progress.bar import Bar\n",
    "import time\n",
    "\n",
    "\n",
    "class Arena():\n",
    "    \"\"\"\n",
    "    An Arena class where any 2 agents can be pit against each other.\n",
    "    \"\"\"\n",
    "\n",
    "    def __init__(self, player1, player2, game, display=None):\n",
    "        \"\"\"\n",
    "        Input:\n",
    "            player 1,2: two functions that takes board as input, return action\n",
    "            game: Game object\n",
    "            display: a function that takes board as input and prints it (e.g.\n",
    "                     display in othello/OthelloGame). Is necessary for verbose\n",
    "                     mode.\n",
    "        see othello/OthelloPlayers.py for an example. See pit.py for pitting\n",
    "        human players/other baselines with each other.\n",
    "        \"\"\"\n",
    "        self.player1 = player1\n",
    "        self.player2 = player2\n",
    "        self.game = game\n",
    "        self.display = display\n",
    "        self.displaybar = True\n",
    "\n",
    "    def playGame(self, verbose=False):\n",
    "        \"\"\"\n",
    "        Executes one episode of a game.\n",
    "        Returns:\n",
    "            either\n",
    "                winner: player who won the game (1 if player1, -1 if player2)\n",
    "            or\n",
    "                draw result returned from the game that is neither 1, -1, nor 0.\n",
    "        \"\"\"\n",
    "        players = [self.player2, None, self.player1]\n",
    "        curPlayer = 1\n",
    "        board = self.game.getInitBoard()\n",
    "        it = 0\n",
    "        while self.game.getGameEnded(board, curPlayer) == 0:\n",
    "            it += 1\n",
    "            if verbose:\n",
    "                assert (self.display)\n",
    "                print(\"Turn \", str(it), \"Player \", str(curPlayer))\n",
    "                self.display(board)\n",
    "            action = players[curPlayer + 1](self.game.getCanonicalForm(board, curPlayer))\n",
    "\n",
    "            valids = self.game.getValidMoves(self.game.getCanonicalForm(board, curPlayer), 1)\n",
    "\n",
    "            if valids[action] == 0:\n",
    "                print(action)\n",
    "                assert valids[action] > 0\n",
    "            board, curPlayer = self.game.getNextState(board, curPlayer, action)\n",
    "        if verbose:\n",
    "            assert (self.display)\n",
    "            print(\"Game over: Turn \", str(it), \"Result \", str(self.game.getGameEnded(board, 1)))\n",
    "            self.display(board)\n",
    "        return self.game.getGameEnded(board, 1)\n",
    "\n",
    "    def playGames(self, num, verbose=False):\n",
    "        \"\"\"\n",
    "        Plays num games in which player1 starts num/2 games and player2 starts\n",
    "        num/2 games.\n",
    "        Returns:\n",
    "            oneWon: games won by player1\n",
    "            twoWon: games won by player2\n",
    "            draws:  games won by nobody\n",
    "        \"\"\"\n",
    "        eps_time = AverageMeter()\n",
    "        bar = Bar('Arena.playGames', max=num)\n",
    "        end = time.time()\n",
    "        eps = 0\n",
    "        maxeps = int(num)\n",
    "\n",
    "        num = int(num / 2)\n",
    "        oneWon = 0\n",
    "        twoWon = 0\n",
    "        draws = 0\n",
    "        for _ in range(num):\n",
    "            gameResult = self.playGame(verbose=verbose)\n",
    "            if gameResult == 1:\n",
    "                oneWon += 1\n",
    "            elif gameResult == -1:\n",
    "                twoWon += 1\n",
    "            else:\n",
    "                draws += 1\n",
    "            # bookkeeping + plot progress\n",
    "            eps += 1\n",
    "            eps_time.update(time.time() - end)\n",
    "            end = time.time()\n",
    "            if (self.displaybar):\n",
    "                bar.suffix = '({eps}/{maxeps}) Eps Time: {et:.3f}s | Total: {total:} | ETA: {eta:}'.format(eps=eps + 1,\n",
    "                                                                                                           maxeps=maxeps,\n",
    "                                                                                                           et=eps_time.avg,\n",
    "                                                                                                           total=bar.elapsed_td,\n",
    "                                                                                                           eta=bar.eta_td)\n",
    "                bar.next()\n",
    "\n",
    "        self.player1, self.player2 = self.player2, self.player1\n",
    "\n",
    "        for _ in range(num):\n",
    "            gameResult = self.playGame(verbose=verbose)\n",
    "            if gameResult == -1:\n",
    "                oneWon += 1\n",
    "            elif gameResult == 1:\n",
    "                twoWon += 1\n",
    "            else:\n",
    "                draws += 1\n",
    "            # bookkeeping + plot progress\n",
    "            eps += 1\n",
    "            eps_time.update(time.time() - end)\n",
    "            end = time.time()\n",
    "            if (self.displaybar):\n",
    "                bar.suffix = '({eps}/{maxeps}) Eps Time: {et:.3f}s | Total: {total:} | ETA: {eta:}'.format(eps=eps + 1,\n",
    "                                                                                                           maxeps=num,\n",
    "                                                                                                           et=eps_time.avg,\n",
    "                                                                                                           total=bar.elapsed_td,\n",
    "                                                                                                           eta=bar.eta_td)\n",
    "                bar.next()\n",
    "\n",
    "        bar.finish()\n",
    "\n",
    "        return oneWon, twoWon, draws"
   ]
  },
  {
   "cell_type": "code",
   "execution_count": 8,
   "id": "21d8e3c3",
   "metadata": {},
   "outputs": [
    {
     "ename": "FileNotFoundError",
     "evalue": "[WinError 3] The system cannot find the path specified: 'C:\\\\Users\\\\Jernejc\\\\PycharmProjects\\\\MasterThesis\\\\temp\\\\antichess\\\\reduced_moves\\\\torch\\\\200x100x25x0.6x200000x0.1x100x1.25'",
     "output_type": "error",
     "traceback": [
      "\u001b[1;31m---------------------------------------------------------------------------\u001b[0m",
      "\u001b[1;31mFileNotFoundError\u001b[0m                         Traceback (most recent call last)",
      "\u001b[1;32m~\\AppData\\Local\\Temp/ipykernel_1848/3051341698.py\u001b[0m in \u001b[0;36m<module>\u001b[1;34m\u001b[0m\n\u001b[1;32m----> 1\u001b[1;33m \u001b[0mmodels\u001b[0m \u001b[1;33m=\u001b[0m \u001b[0mos\u001b[0m\u001b[1;33m.\u001b[0m\u001b[0mlistdir\u001b[0m\u001b[1;33m(\u001b[0m\u001b[1;34m\"C:\\\\Users\\\\Jernejc\\\\PycharmProjects\\\\MasterThesis\\\\temp\\\\antichess\\\\reduced_moves\\\\torch\\\\200x100x25x0.6x200000x0.1x100x1.25\"\u001b[0m\u001b[1;33m)\u001b[0m\u001b[1;33m\u001b[0m\u001b[1;33m\u001b[0m\u001b[0m\n\u001b[0m",
      "\u001b[1;31mFileNotFoundError\u001b[0m: [WinError 3] The system cannot find the path specified: 'C:\\\\Users\\\\Jernejc\\\\PycharmProjects\\\\MasterThesis\\\\temp\\\\antichess\\\\reduced_moves\\\\torch\\\\200x100x25x0.6x200000x0.1x100x1.25'"
     ]
    }
   ],
   "source": [
    "models = os.listdir(\"C:\\\\Users\\\\Jernejc\\\\PycharmProjects\\\\MasterThesis\\\\temp\\\\antichess\\\\reduced_moves\\\\torch\\\\200x100x25x0.6x200000x0.1x100x1.25\")"
   ]
  },
  {
   "cell_type": "code",
   "execution_count": 9,
   "id": "93b40fde",
   "metadata": {},
   "outputs": [],
   "source": [
    "results = []"
   ]
  },
  {
   "cell_type": "code",
   "execution_count": 10,
   "id": "acf159c3",
   "metadata": {},
   "outputs": [],
   "source": [
    "results_stock = []"
   ]
  },
  {
   "cell_type": "code",
   "execution_count": 11,
   "id": "ac122c35",
   "metadata": {},
   "outputs": [],
   "source": [
    "def myFunc(e):\n",
    "    try:\n",
    "        model_index = int(e.split(\".\")[0].split(\"_\")[-1])\n",
    "    except:\n",
    "        model_index = 201\n",
    "    return model_index"
   ]
  },
  {
   "cell_type": "code",
   "execution_count": 12,
   "id": "c28aae64",
   "metadata": {},
   "outputs": [
    {
     "data": {
      "text/plain": [
       "100"
      ]
     },
     "execution_count": 12,
     "metadata": {},
     "output_type": "execute_result"
    }
   ],
   "source": [
    "myFunc('checkpoint_100.pth.tar')"
   ]
  },
  {
   "cell_type": "code",
   "execution_count": 13,
   "id": "e7c1b200",
   "metadata": {},
   "outputs": [
    {
     "ename": "FileNotFoundError",
     "evalue": "[WinError 3] The system cannot find the path specified: 'C:\\\\Users\\\\Jernejc\\\\PycharmProjects\\\\MasterThesis\\\\temp\\\\antichess\\\\reduced_moves\\\\torch\\\\200x100x25x0.6x200000x0.1x100x1.25'",
     "output_type": "error",
     "traceback": [
      "\u001b[1;31m---------------------------------------------------------------------------\u001b[0m",
      "\u001b[1;31mFileNotFoundError\u001b[0m                         Traceback (most recent call last)",
      "\u001b[1;32m~\\AppData\\Local\\Temp/ipykernel_1848/3744951171.py\u001b[0m in \u001b[0;36m<module>\u001b[1;34m\u001b[0m\n\u001b[1;32m----> 1\u001b[1;33m \u001b[0mmodels\u001b[0m \u001b[1;33m=\u001b[0m \u001b[0mos\u001b[0m\u001b[1;33m.\u001b[0m\u001b[0mlistdir\u001b[0m\u001b[1;33m(\u001b[0m\u001b[1;34m\"C:\\\\Users\\\\Jernejc\\\\PycharmProjects\\\\MasterThesis\\\\temp\\\\antichess\\\\reduced_moves\\\\torch\\\\200x100x25x0.6x200000x0.1x100x1.25\"\u001b[0m\u001b[1;33m)\u001b[0m\u001b[1;33m\u001b[0m\u001b[1;33m\u001b[0m\u001b[0m\n\u001b[0m\u001b[0;32m      2\u001b[0m \u001b[0mmodels\u001b[0m\u001b[1;33m.\u001b[0m\u001b[0msort\u001b[0m\u001b[1;33m(\u001b[0m\u001b[0mkey\u001b[0m\u001b[1;33m=\u001b[0m\u001b[0mmyFunc\u001b[0m\u001b[1;33m)\u001b[0m\u001b[1;33m\u001b[0m\u001b[1;33m\u001b[0m\u001b[0m\n\u001b[0;32m      3\u001b[0m \u001b[0mmodels\u001b[0m\u001b[1;33m\u001b[0m\u001b[1;33m\u001b[0m\u001b[0m\n",
      "\u001b[1;31mFileNotFoundError\u001b[0m: [WinError 3] The system cannot find the path specified: 'C:\\\\Users\\\\Jernejc\\\\PycharmProjects\\\\MasterThesis\\\\temp\\\\antichess\\\\reduced_moves\\\\torch\\\\200x100x25x0.6x200000x0.1x100x1.25'"
     ]
    }
   ],
   "source": [
    "models = os.listdir(\"C:\\\\Users\\\\Jernejc\\\\PycharmProjects\\\\MasterThesis\\\\temp\\\\antichess\\\\reduced_moves\\\\torch\\\\200x100x25x0.6x200000x0.1x100x1.25\")\n",
    "models.sort(key=myFunc)\n",
    "models"
   ]
  },
  {
   "cell_type": "code",
   "execution_count": null,
   "id": "5ec4c0f0",
   "metadata": {},
   "outputs": [],
   "source": [
    "models"
   ]
  },
  {
   "cell_type": "code",
   "execution_count": 14,
   "id": "7a4f284d",
   "metadata": {
    "scrolled": true
   },
   "outputs": [
    {
     "ename": "NameError",
     "evalue": "name 'models' is not defined",
     "output_type": "error",
     "traceback": [
      "\u001b[1;31m---------------------------------------------------------------------------\u001b[0m",
      "\u001b[1;31mNameError\u001b[0m                                 Traceback (most recent call last)",
      "\u001b[1;32m~\\AppData\\Local\\Temp/ipykernel_1848/1157639817.py\u001b[0m in \u001b[0;36m<module>\u001b[1;34m\u001b[0m\n\u001b[1;32m----> 1\u001b[1;33m \u001b[1;32mfor\u001b[0m \u001b[0mmodel\u001b[0m \u001b[1;32min\u001b[0m \u001b[0mmodels\u001b[0m\u001b[1;33m[\u001b[0m\u001b[1;36m82\u001b[0m\u001b[1;33m:\u001b[0m\u001b[1;33m]\u001b[0m\u001b[1;33m:\u001b[0m\u001b[1;33m\u001b[0m\u001b[1;33m\u001b[0m\u001b[0m\n\u001b[0m\u001b[0;32m      2\u001b[0m     \u001b[1;32mif\u001b[0m \u001b[1;34m'checkpoint'\u001b[0m \u001b[1;32min\u001b[0m \u001b[0mmodel\u001b[0m\u001b[1;33m:\u001b[0m\u001b[1;33m\u001b[0m\u001b[1;33m\u001b[0m\u001b[0m\n\u001b[0;32m      3\u001b[0m         \u001b[0mprint\u001b[0m\u001b[1;33m(\u001b[0m\u001b[0mmodel\u001b[0m\u001b[1;33m)\u001b[0m\u001b[1;33m\u001b[0m\u001b[1;33m\u001b[0m\u001b[0m\n\u001b[0;32m      4\u001b[0m         \u001b[0mrp1\u001b[0m \u001b[1;33m=\u001b[0m \u001b[0mRandomPlayer\u001b[0m\u001b[1;33m(\u001b[0m\u001b[0mg\u001b[0m\u001b[1;33m)\u001b[0m\u001b[1;33m.\u001b[0m\u001b[0mplay\u001b[0m\u001b[1;33m\u001b[0m\u001b[1;33m\u001b[0m\u001b[0m\n\u001b[0;32m      5\u001b[0m \u001b[1;33m\u001b[0m\u001b[0m\n",
      "\u001b[1;31mNameError\u001b[0m: name 'models' is not defined"
     ]
    }
   ],
   "source": [
    "for model in models[82:]:\n",
    "    if 'checkpoint' in model:\n",
    "        print(model)\n",
    "        rp1 = RandomPlayer(g).play\n",
    "        \n",
    "        n1 = NNet(g)\n",
    "        n1.load_checkpoint('./temp/antichess/reduced_moves/torch/200x100x25x0.6x200000x0.1x100x1.25/',model)\n",
    "        \n",
    "        #stockfish1 = StockFishPlayer(g,1000).play\n",
    "\n",
    "\n",
    "        args1 = dotdict({'numMCTSSims': 100, 'cpuct':1.25, 'dirichletAlpha' : 0.1})\n",
    "        mcts1 = MCTS(g, n1, args1, dirichlet_noise=True)\n",
    "        n1p = lambda x: np.argmax(mcts1.getActionProb(x, temp=0))\n",
    "        \n",
    "        arena = Arena.Arena(n1p,rp1, g)\n",
    "        \n",
    "        start = time.time()\n",
    "        one,two,draw = arena.playGames(20,verbose=False)\n",
    "        print(one,two,draw,model)\n",
    "        results_stock.append((one,two,draw,model))\n",
    "        end = time.time()\n",
    "        print(end-start)\n"
   ]
  },
  {
   "cell_type": "code",
   "execution_count": null,
   "id": "7b81bfa7",
   "metadata": {},
   "outputs": [],
   "source": [
    "import numpy as np"
   ]
  },
  {
   "cell_type": "code",
   "execution_count": null,
   "id": "799605f1",
   "metadata": {},
   "outputs": [],
   "source": [
    "pi = [0.0,0.0,0.1,0.0,0.0,0.01,0.49,0.0,0.15,0.0,0.05,0.0,0.06,0.06,0.04,0.04]"
   ]
  },
  {
   "cell_type": "code",
   "execution_count": null,
   "id": "90d7f6f4",
   "metadata": {},
   "outputs": [],
   "source": [
    "if not url in urls_d:\n",
    "        urls_d[url] = 1\n",
    "    else:\n",
    "        urls_d[url] += 1"
   ]
  },
  {
   "cell_type": "code",
   "execution_count": null,
   "id": "47ac9995",
   "metadata": {},
   "outputs": [],
   "source": [
    "res = {}"
   ]
  },
  {
   "cell_type": "code",
   "execution_count": null,
   "id": "71dc93d5",
   "metadata": {},
   "outputs": [],
   "source": [
    "for _ in range(1000):\n",
    "    action = np.random.choice(len(pi), p=pi)\n",
    "    if not action in res:\n",
    "        res[action] = 1\n",
    "    else:\n",
    "        res[action] += 1"
   ]
  },
  {
   "cell_type": "code",
   "execution_count": null,
   "id": "edc3bd4e",
   "metadata": {
    "scrolled": true
   },
   "outputs": [],
   "source": [
    "res"
   ]
  },
  {
   "cell_type": "code",
   "execution_count": null,
   "id": "9d2f7820",
   "metadata": {},
   "outputs": [],
   "source": [
    "def get_move_evaluation(engine, board, time_per_move=0.01):\n",
    "        list_moves = []\n",
    "        for el in board.legal_moves:\n",
    "            info = engine.analyse(board, chess.engine.Limit(time=time_per_move), root_moves=[el])\n",
    "            t = str(info[\"score\"])\n",
    "            # print(el,info[\"score\"].pov(board.turn).score(mate_score=1000000),t)\n",
    "            list_moves.append((str(el), info[\"score\"].pov(board.turn).score(mate_score=1000000)))\n",
    "\n",
    "        sorted_list_moves = sorted(list_moves, key=lambda x: x[1], reverse=True)\n",
    "        # for move in sorted_list_moves:\n",
    "        #    print(move)\n",
    "        return dict(sorted_list_moves)"
   ]
  },
  {
   "cell_type": "code",
   "execution_count": null,
   "id": "0c8c99ad",
   "metadata": {},
   "outputs": [],
   "source": [
    "import chess\n",
    "import chess.variant\n",
    "import chess.engine"
   ]
  },
  {
   "cell_type": "code",
   "execution_count": null,
   "id": "565e797b",
   "metadata": {},
   "outputs": [],
   "source": [
    "board = chess.variant.AntichessBoard(\"r2qk2r/p2p3p/8/8/8/8/P2P3P/R2QK2R w - - 0 1\")"
   ]
  },
  {
   "cell_type": "code",
   "execution_count": null,
   "id": "0b472410",
   "metadata": {
    "scrolled": true
   },
   "outputs": [],
   "source": [
    "board"
   ]
  },
  {
   "cell_type": "code",
   "execution_count": null,
   "id": "46624507",
   "metadata": {},
   "outputs": [],
   "source": [
    "engine = chess.engine.SimpleEngine.popen_uci(\"C:/Users/jerne/Downloads/fairy-stockfish-largeboard_x86-64.exe\")\n",
    "possible_moves = get_move_evaluation(engine, board, time_per_move=0.1)"
   ]
  },
  {
   "cell_type": "code",
   "execution_count": null,
   "id": "28a35a2c",
   "metadata": {
    "scrolled": true
   },
   "outputs": [],
   "source": [
    "possible_moves"
   ]
  },
  {
   "cell_type": "code",
   "execution_count": null,
   "id": "5544d804",
   "metadata": {
    "scrolled": true
   },
   "outputs": [],
   "source": [
    "pd.read_csv()"
   ]
  },
  {
   "cell_type": "code",
   "execution_count": null,
   "id": "5b686ad8",
   "metadata": {},
   "outputs": [],
   "source": [
    "board = chess.variant.AntichessBoard(\"rnbqkbnr/pppppppp/8/8/8/8/PPPPPPPP/RNBQKBNR w - - 0 1\")"
   ]
  },
  {
   "cell_type": "code",
   "execution_count": null,
   "id": "8c24bcfa",
   "metadata": {
    "scrolled": true
   },
   "outputs": [],
   "source": [
    "board"
   ]
  }
 ],
 "metadata": {
  "kernelspec": {
   "display_name": "Python 3 (ipykernel)",
   "language": "python",
   "name": "python3"
  },
  "language_info": {
   "codemirror_mode": {
    "name": "ipython",
    "version": 3
   },
   "file_extension": ".py",
   "mimetype": "text/x-python",
   "name": "python",
   "nbconvert_exporter": "python",
   "pygments_lexer": "ipython3",
   "version": "3.7.9"
  }
 },
 "nbformat": 4,
 "nbformat_minor": 5
}
