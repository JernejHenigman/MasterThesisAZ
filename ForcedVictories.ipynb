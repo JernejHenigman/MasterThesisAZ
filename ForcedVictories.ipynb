{
 "cells": [
  {
   "cell_type": "code",
   "execution_count": 2,
   "id": "198cb453",
   "metadata": {},
   "outputs": [],
   "source": [
    "import numpy as np\n",
    "import chess.variant\n",
    "import time\n",
    "import random\n",
    "import chess.engine\n",
    "import itertools\n",
    "import random\n",
    "import chess.polyglot\n",
    "import pandas as pd\n",
    "from collections import defaultdict"
   ]
  },
  {
   "cell_type": "code",
   "execution_count": 2,
   "id": "85d3c509",
   "metadata": {},
   "outputs": [],
   "source": [
    "piece_values = {1 : 1, 2 : 2, 3 : 3, 4 : 6, 5 : 4, 6 : 5}"
   ]
  },
  {
   "cell_type": "code",
   "execution_count": 3,
   "id": "ade3d5cb",
   "metadata": {
    "scrolled": false
   },
   "outputs": [],
   "source": [
    "class Node():\n",
    "    def __init__(self,parent=None,board=None,move=None,h=None):\n",
    "        self.parent = parent\n",
    "        self.board = board\n",
    "        self.move = move\n",
    "        self.children = []\n",
    "        self.children_sorted = []\n",
    "        self.heuristic = h\n",
    "       \n",
    "        \n",
    "    def eval_material(self):\n",
    "        piece_list = [(piece.color,piece.piece_type) for piece in list(self.board.piece_map().values())]\n",
    "        black_piece_values = []\n",
    "        white_piece_values = []\n",
    "        for i in piece_list:\n",
    "            if i[0]:\n",
    "                white_piece_values.append(piece_values[i[1]])\n",
    "            else:\n",
    "                black_piece_values.append(piece_values[i[1]])\n",
    "\n",
    "        black_sum = sum(black_piece_values)\n",
    "        white_sum = sum(white_piece_values)\n",
    "        \n",
    "        return black_sum-white_sum\n",
    "        \n",
    "    def num_captures(self):\n",
    "        pieces_indicies = [] \n",
    "        num_possible_caputres = []\n",
    "        for piece in [chess.PAWN,chess.KNIGHT,chess.BISHOP,chess.ROOK,chess.QUEEN,chess.KING]:\n",
    "            pieces_indicies.append(list(self.board.pieces(piece,not self.board.turn)))\n",
    "\n",
    "        pieces_indicies = list(filter(None, pieces_indicies))\n",
    "        pieces_indicies = list(itertools.chain(*pieces_indicies))\n",
    "\n",
    "\n",
    "        for piece in pieces_indicies:\n",
    "            num_possible_caputres.append(list(self.board.attackers(self.board.turn,piece)))\n",
    "\n",
    "        num_possible_caputres = list(filter(None, num_possible_caputres))\n",
    "        num_possible_caputres = list(itertools.chain(*num_possible_caputres))\n",
    "\n",
    "        return len(num_possible_caputres)\n",
    "    \n",
    "    def piece_mobility(self):\n",
    "\n",
    "        old_fen = self.board.fen()\n",
    "        fen0 = self.board.fen().split(\" \")[0]\n",
    "        fen_c = self.board.fen().split(\" \")[1]\n",
    "        fen_end = self.board.fen().split(\" \")[2:]\n",
    "        white_mobility,black_mobility = 1,1\n",
    "\n",
    "        new_fen = fen0 + ' w '+' '.join(fen_end) if fen_c == 'b' else fen0 + ' b '+' '.join(fen_end)\n",
    "\n",
    "        if self.board.turn:\n",
    "            white_mobility = len(list(self.board.pseudo_legal_moves))\n",
    "        else:\n",
    "            black_mobility = len(list(self.board.pseudo_legal_moves))\n",
    "\n",
    "        self.board.set_fen(new_fen)\n",
    "\n",
    "        if self.board.turn:\n",
    "            white_mobility = len(list(self.board.pseudo_legal_moves))\n",
    "        else:\n",
    "            black_mobility = len(list(self.board.pseudo_legal_moves))\n",
    "            \n",
    "        print(white_mobility)\n",
    "        print(black_mobility)\n",
    "        \n",
    "        self.board.set_fen(old_fen)\n",
    "        \n",
    "        mobility = 0\n",
    "        try:\n",
    "            mobility = float(white_mobility/black_mobility)\n",
    "        except:\n",
    "            print(\"here\")\n",
    "            mobility = 0\n",
    "            \n",
    "        return mobility\n",
    "    \n",
    "    def eval_pos(self):\n",
    "        global transposition\n",
    "        index = chess.polyglot.zobrist_hash(self.board)\n",
    "        eval_score = 0.0\n",
    "\n",
    "        #if index in transposition:\n",
    "        #    eval_score = transposition.get(index)[0]\n",
    "        #    return eval_score\n",
    "        \n",
    "        #else:\n",
    "            \n",
    "        if self.board.result() == '*':\n",
    "            if self.heuristic == 1:\n",
    "                eval_score = self.eval_material()\n",
    "            elif self.heuristic == 2:\n",
    "                eval_score = self.num_captures()\n",
    "            elif self.heuristic == 3:\n",
    "                eval_score = self.piece_mobility()\n",
    "            elif self.heuristic == 12:\n",
    "                eval_score = self.eval_material() + self.num_captures()\n",
    "            elif self.heuristic == 13:\n",
    "                eval_score = self.eval_material() + self.piece_mobility()\n",
    "            elif self.heuristic == 23:\n",
    "                eval_score = self.num_captures() + self.piece_mobility()\n",
    "            elif self.heuristic == 123:\n",
    "                eval_score = 0.33+self.eval_material() + 0.33+self.num_captures() + 0.33*self.piece_mobility()\n",
    "\n",
    "            transposition.update({index : [eval_score, self.board.ply()]})\n",
    "            return eval_score\n",
    "        else:\n",
    "            if int(self.board.result().split(\"-\")[0]) == 0:\n",
    "                return np.inf\n",
    "            elif int(self.board.result().split(\"-\")[0]) == 1:\n",
    "                return -np.inf\n",
    "            else:\n",
    "                print(\"draw\")\n",
    "                return 0\n",
    "            \n",
    "    def stockfish_eval(self):\n",
    "        global engine\n",
    "        info = engine.analyse(self.board, chess.engine.Limit(depth=10))\n",
    "        return info[\"score\"].pov(self.board.turn).score(mate_score=1000000)\n",
    "        \n",
    "            \n",
    "    def sort_children(self):\n",
    "        self.children = sorted(self.children, key = lambda x: x[1], reverse=True)\n",
    "        self.children = [x[0] for x in self.children]\n",
    "             "
   ]
  },
  {
   "cell_type": "code",
   "execution_count": 4,
   "id": "cdf1fe60",
   "metadata": {},
   "outputs": [],
   "source": [
    "def play(heuristic,global_depth,time,weigts):\n",
    "\n",
    "    board = chess.variant.AntichessBoard()\n",
    "   \n",
    "    minimax_eval,eval_position = [],[]\n",
    "        \n",
    "    root = Node(None,board,None,h=heuristic)\n",
    "    while not board.is_game_over():\n",
    "        if board.turn:\n",
    "            root = Node(None,board,None,h=heuristic)\n",
    "            best_child = iterativeDeepening(root,global_depth,time)\n",
    "            \n",
    " \n",
    "            if best_child is not None:\n",
    "                \n",
    "                eval_position.append((best_child.eval_pos(),best_child.stockfish_eval()))\n",
    "\n",
    "                board.push(best_child.move)\n",
    "\n",
    "            else:\n",
    "                legal_moves = list(board.legal_moves)\n",
    "                move = random.choice(legal_moves)\n",
    "                board.push(move)\n",
    "\n",
    "            \n",
    "        else:\n",
    "            #result = engine.play(board, chess.engine.Limit(time=0.001))\n",
    "            #board.push_uci(str(result.move))\n",
    "            legal_moves = list(board.legal_moves)\n",
    "            move = random.choice(legal_moves)\n",
    "            board.push(move)\n",
    "                    \n",
    "    return board,eval_position"
   ]
  },
  {
   "cell_type": "code",
   "execution_count": 5,
   "id": "683f4b9e",
   "metadata": {},
   "outputs": [],
   "source": [
    "def iterativeDeepening(node,global_depth,time_s):\n",
    "    startTime = time.time()\n",
    "    time_limit = time_s\n",
    "\n",
    "    def minimax(node,depth,player,alpha,beta):\n",
    "\n",
    "        if depth == 0 or node.board.is_game_over() or time.time() - startTime > time_limit:\n",
    "\n",
    "            #if node.board.is_game_over():\n",
    "                #print(node.board.fen())\n",
    "                #print(\"Sombody lost!\")\n",
    "                #print(node.board)\n",
    "                #print(depth)\n",
    "                #print(node.eval_pos())\n",
    "            return node.eval_pos(),0\n",
    "        \n",
    "        for move in node.board.legal_moves:\n",
    "            node.board.push_uci(str(move))\n",
    "            new_board = node.board.copy()\n",
    "            node.board.pop()\n",
    "            child_node = Node(node,new_board,move,node.heuristic)\n",
    "            node.children.append(child_node)\n",
    "            \n",
    "        if player:\n",
    "            value = -np.inf\n",
    "            which_child = None\n",
    "            for child in node.children:\n",
    "                \n",
    "                value_child,_ = minimax(child, depth - 1, not player,alpha,beta)\n",
    "\n",
    "                if value_child > value:\n",
    "                    value = value_child\n",
    "                    which_child = child\n",
    "                if value >= beta:\n",
    "                    break \n",
    "                alpha = max(alpha, value)\n",
    "                \n",
    "            return value,which_child\n",
    "\n",
    "        else:\n",
    "            value = np.inf\n",
    "            which_child = None\n",
    "            for child in node.children:\n",
    "               \n",
    "                value_child,_ = minimax(child, depth - 1, not player,alpha,beta)\n",
    "\n",
    "                if value_child < value:\n",
    "                    value = value_child\n",
    "                    which_child = child\n",
    "                if value <= alpha:\n",
    "                    break \n",
    "                beta = min(beta, value)\n",
    "            return value,which_child\n",
    "   \n",
    "\n",
    "    val = -np.inf\n",
    "    for depth in range(1, global_depth):\n",
    "        if time.time() - startTime > time_limit: break\n",
    "        value_child,which_child = minimax(node,depth,node.board.turn,-np.inf,np.inf)\n",
    "        if value_child > val:\n",
    "            val,which_child = value_child, which_child\n",
    "   \n",
    "    \n",
    "    return which_child    "
   ]
  },
  {
   "cell_type": "code",
   "execution_count": 1,
   "id": "2102b74c",
   "metadata": {},
   "outputs": [
    {
     "ename": "NameError",
     "evalue": "name 'chess' is not defined",
     "output_type": "error",
     "traceback": [
      "\u001b[1;31m---------------------------------------------------------------------------\u001b[0m",
      "\u001b[1;31mNameError\u001b[0m                                 Traceback (most recent call last)",
      "\u001b[1;32m~\\AppData\\Local\\Temp/ipykernel_14076/589266617.py\u001b[0m in \u001b[0;36m<module>\u001b[1;34m\u001b[0m\n\u001b[0;32m      1\u001b[0m \u001b[1;32mglobal\u001b[0m \u001b[0mtransposition\u001b[0m\u001b[1;33m\u001b[0m\u001b[1;33m\u001b[0m\u001b[0m\n\u001b[0;32m      2\u001b[0m \u001b[0mtransposition\u001b[0m \u001b[1;33m=\u001b[0m \u001b[1;33m{\u001b[0m\u001b[1;33m}\u001b[0m\u001b[1;33m\u001b[0m\u001b[1;33m\u001b[0m\u001b[0m\n\u001b[1;32m----> 3\u001b[1;33m \u001b[0mengine\u001b[0m \u001b[1;33m=\u001b[0m \u001b[0mchess\u001b[0m\u001b[1;33m.\u001b[0m\u001b[0mengine\u001b[0m\u001b[1;33m.\u001b[0m\u001b[0mSimpleEngine\u001b[0m\u001b[1;33m.\u001b[0m\u001b[0mpopen_uci\u001b[0m\u001b[1;33m(\u001b[0m\u001b[1;34m\"./fairy-stockfish-largeboard_x86-64.exe\"\u001b[0m\u001b[1;33m)\u001b[0m\u001b[1;33m\u001b[0m\u001b[1;33m\u001b[0m\u001b[0m\n\u001b[0m",
      "\u001b[1;31mNameError\u001b[0m: name 'chess' is not defined"
     ]
    }
   ],
   "source": [
    "global transposition\n",
    "transposition = {}\n",
    "engine = chess.engine.SimpleEngine.popen_uci(\"./fairy-stockfish-largeboard_x86-64.exe\")"
   ]
  },
  {
   "cell_type": "code",
   "execution_count": 40,
   "id": "1586bb87",
   "metadata": {
    "scrolled": true
   },
   "outputs": [
    {
     "name": "stdout",
     "output_type": "stream",
     "text": [
      "0\n",
      "1\n",
      "2\n",
      "3\n",
      "4\n",
      "5\n",
      "6\n",
      "7\n",
      "8\n",
      "9\n"
     ]
    }
   ],
   "source": [
    "file = \"stockfish_vs_minmax.pgn\"\n",
    "games = open(file,\"w\")\n",
    "for i in range(10):\n",
    "    print(i)\n",
    "    b,eva_p = play(123,5,0.01,None)\n",
    "    games.write('[White \"Stockfish\"]'+'\\n')\n",
    "    games.write('\\n')\n",
    "    games.write('\\n')\n",
    "    games.write('\\n')\n",
    "    games.write('[Black \"MinMax\"]'+'\\n')\n",
    "    games.write('\\n')\n",
    "    games.write('\\n')\n",
    "    games.write('\\n')\n",
    "\n",
    "    games.write('[Result \"'+b.result()+'\"]\\n')\n",
    "    games.write('\\n')\n",
    "    games.write('\\n')\n",
    "    games.write('\\n')\n",
    "    games.write(b.result()+\"\\n\")\n",
    "    games.write('\\n')\n",
    "    games.write('\\n')\n",
    "    games.write('\\n')\n",
    "    games.write('\\n')\n",
    "    games.write('\\n')\n",
    "    games.write('\\n')\n",
    "    \n",
    "games.close()"
   ]
  },
  {
   "cell_type": "code",
   "execution_count": 7,
   "id": "b455c706",
   "metadata": {
    "scrolled": true
   },
   "outputs": [],
   "source": [
    "board_1 = chess.variant.AntichessBoard(\"8/2N3Q1/8/p3b3/p7/2R3P1/7p/8 b - - 0 1\")\n",
    "board_2 = chess.variant.AntichessBoard(\"8/2n3q1/8/P3B3/P7/2r3p1/7P/8 w - - 0 1\")\n",
    "board_2b = chess.variant.AntichessBoard(\"8/2n3q1/8/P3B3/P7/2r3p1/7P/8 b - - 0 1\")\n",
    "board_3 = chess.variant.AntichessBoard(\"8/2n3q1/8/4B3/8/2r3p1/7P/8 w - - 0 1\")\n",
    "board_4 = chess.variant.AntichessBoard(\"8/4p3/3r4/8/8/3R2r1/8/8 w - - 0 1\")\n",
    "board_5 = chess.variant.AntichessBoard(\"8/8/8/8/8/4B3/8/8 b - - 0 4\")\n",
    "board_6 = chess.variant.AntichessBoard(\"8/2n3q1/8/P3B3/P7/2r3p1/7P/8 w - - 0 1\")\n",
    "board_7 = chess.variant.AntichessBoard()\n",
    "board_8 = chess.variant.AntichessBoard(\"rnb1kbnr/ppp1pppp/8/3q4/3P4/8/PPP2PPP/RNBQKBNR b - - 0 3\")\n",
    "board_9 = chess.variant.AntichessBoard(\"rn2kbnr/ppp1pppp/8/8/3Q4/7b/PPP2PPP/RNB1KBNR w - - 1 5\")\n",
    "board_10 = chess.variant.AntichessBoard(\"rnbqkbnr/pppp1ppp/8/4p3/4P3/5N2/PPPP1PPP/RNBQKB1R b - - 1 2\")\n",
    "board_11 = chess.variant.AntichessBoard(\"r4b2/p3p3/8/3P4/P4p2/1P3Pp1/3P2P1/R1BN2N1 b - - 0 26\")\n",
    "board_12 = chess.variant.AntichessBoard(\"rn2k1nQ/p2b1p1p/4p3/2B5/8/8/P1P2PPP/RN2q1NR w - - 0 10\")\n",
    "board_13 = chess.variant.AntichessBoard(\"8/2n3q1/8/4B3/8/2r3p1/7P/8 w - - 0 1\") "
   ]
  },
  {
   "cell_type": "code",
   "execution_count": 8,
   "id": "e8025856",
   "metadata": {},
   "outputs": [],
   "source": [
    "root_2 = Node(None,board_2,None,h=123)\n",
    "root_2b = Node(None,board_2b,None,h=123)\n",
    "root_13 = Node(None,board_13,None,h=123)\n",
    "root_8 = Node(None,board_8,None,h=123)\n",
    "root_10 = Node(None,board_10,None,h=123)"
   ]
  },
  {
   "cell_type": "code",
   "execution_count": 9,
   "id": "11653fa5",
   "metadata": {
    "scrolled": false
   },
   "outputs": [
    {
     "name": "stdout",
     "output_type": "stream",
     "text": [
      "5\n",
      "12\n",
      "31\n",
      "0.3870967741935484\n",
      "7\n"
     ]
    }
   ],
   "source": [
    "print(root_2.num_captures())\n",
    "print(root_2.piece_mobility())\n",
    "print(root_2.eval_material())"
   ]
  },
  {
   "cell_type": "code",
   "execution_count": 10,
   "id": "2ea4f156",
   "metadata": {},
   "outputs": [
    {
     "name": "stdout",
     "output_type": "stream",
     "text": [
      "2\n",
      "12\n",
      "31\n",
      "0.3870967741935484\n",
      "7\n"
     ]
    }
   ],
   "source": [
    "print(root_2b.num_captures())\n",
    "print(root_2b.piece_mobility())\n",
    "print(root_2b.eval_material())"
   ]
  },
  {
   "cell_type": "code",
   "execution_count": 11,
   "id": "a09be93d",
   "metadata": {},
   "outputs": [
    {
     "name": "stdout",
     "output_type": "stream",
     "text": [
      "36\n",
      "45\n",
      "0.8\n",
      "0\n",
      "3\n"
     ]
    }
   ],
   "source": [
    "print(root_8.piece_mobility())\n",
    "print(root_8.eval_material())\n",
    "print(root_8.num_captures())"
   ]
  },
  {
   "cell_type": "code",
   "execution_count": null,
   "id": "500a5731",
   "metadata": {},
   "outputs": [],
   "source": [
    "global transposition\n",
    "transposition = {}"
   ]
  },
  {
   "cell_type": "code",
   "execution_count": null,
   "id": "6c79e38c",
   "metadata": {
    "scrolled": true
   },
   "outputs": [],
   "source": [
    "which_child = iterativeDeepening(root_13,20,1000)"
   ]
  },
  {
   "cell_type": "code",
   "execution_count": null,
   "id": "82687a42",
   "metadata": {},
   "outputs": [],
   "source": [
    "which_child.board"
   ]
  }
 ],
 "metadata": {
  "kernelspec": {
   "display_name": "Python 3 (ipykernel)",
   "language": "python",
   "name": "python3"
  },
  "language_info": {
   "codemirror_mode": {
    "name": "ipython",
    "version": 3
   },
   "file_extension": ".py",
   "mimetype": "text/x-python",
   "name": "python",
   "nbconvert_exporter": "python",
   "pygments_lexer": "ipython3",
   "version": "3.7.9"
  }
 },
 "nbformat": 4,
 "nbformat_minor": 5
}
