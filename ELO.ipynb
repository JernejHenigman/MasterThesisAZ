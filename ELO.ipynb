{
 "cells": [
  {
   "cell_type": "code",
   "execution_count": 10,
   "id": "5a845bb3",
   "metadata": {},
   "outputs": [],
   "source": [
    "import numpy as np\n",
    "import chess.variant\n",
    "import time\n",
    "import random\n",
    "import chess.engine\n",
    "import itertools\n",
    "import random\n",
    "import chess.polyglot\n",
    "import pandas as pd\n",
    "from collections import defaultdict\n",
    "from stockfish import Stockfish"
   ]
  },
  {
   "cell_type": "code",
   "execution_count": 52,
   "id": "0add95ef",
   "metadata": {},
   "outputs": [],
   "source": [
    "stockfish = Stockfish(path=\"./fairy-stockfish-largeboard_x86-64.exe\",parameters={\"Skill Level\": 5})"
   ]
  },
  {
   "cell_type": "code",
   "execution_count": 53,
   "id": "7645bed3",
   "metadata": {
    "scrolled": true
   },
   "outputs": [
    {
     "data": {
      "text/plain": [
       "{'Write Debug Log': 'false',\n",
       " 'Contempt': 0,\n",
       " 'Min Split Depth': 0,\n",
       " 'Threads': 1,\n",
       " 'Ponder': 'false',\n",
       " 'Hash': 16,\n",
       " 'MultiPV': 1,\n",
       " 'Skill Level': 20,\n",
       " 'Move Overhead': 30,\n",
       " 'Minimum Thinking Time': 20,\n",
       " 'Slow Mover': 80,\n",
       " 'UCI_Chess960': 'false',\n",
       " 'UCI_LimitStrength': 'false',\n",
       " 'UCI_Elo': 1350}"
      ]
     },
     "execution_count": 53,
     "metadata": {},
     "output_type": "execute_result"
    }
   ],
   "source": [
    "stockfish.default_stockfish_params"
   ]
  },
  {
   "cell_type": "code",
   "execution_count": 54,
   "id": "4d7a55ca",
   "metadata": {},
   "outputs": [
    {
     "data": {
      "text/plain": [
       "{'Write Debug Log': 'false',\n",
       " 'Contempt': 0,\n",
       " 'Min Split Depth': 0,\n",
       " 'Threads': 1,\n",
       " 'Ponder': 'false',\n",
       " 'Hash': 16,\n",
       " 'MultiPV': 1,\n",
       " 'Skill Level': 5,\n",
       " 'Move Overhead': 30,\n",
       " 'Minimum Thinking Time': 20,\n",
       " 'Slow Mover': 80,\n",
       " 'UCI_Chess960': 'false',\n",
       " 'UCI_LimitStrength': 'false',\n",
       " 'UCI_Elo': 1350}"
      ]
     },
     "execution_count": 54,
     "metadata": {},
     "output_type": "execute_result"
    }
   ],
   "source": [
    "stockfish.get_parameters()\n"
   ]
  }
 ],
 "metadata": {
  "kernelspec": {
   "display_name": "Python 3 (ipykernel)",
   "language": "python",
   "name": "python3"
  },
  "language_info": {
   "codemirror_mode": {
    "name": "ipython",
    "version": 3
   },
   "file_extension": ".py",
   "mimetype": "text/x-python",
   "name": "python",
   "nbconvert_exporter": "python",
   "pygments_lexer": "ipython3",
   "version": "3.7.9"
  }
 },
 "nbformat": 4,
 "nbformat_minor": 5
}
